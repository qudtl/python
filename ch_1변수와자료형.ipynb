{
  "nbformat": 4,
  "nbformat_minor": 0,
  "metadata": {
    "colab": {
      "name": "Untitled1.ipynb",
      "provenance": [],
      "collapsed_sections": [],
      "authorship_tag": "ABX9TyM3vJrauLKkQs9rlhDvHjPq",
      "include_colab_link": true
    },
    "kernelspec": {
      "name": "python3",
      "display_name": "Python 3"
    },
    "language_info": {
      "name": "python"
    }
  },
  "cells": [
    {
      "cell_type": "markdown",
      "metadata": {
        "id": "view-in-github",
        "colab_type": "text"
      },
      "source": [
        "<a href=\"https://colab.research.google.com/github/qudtl/python/blob/main/ch_1%EB%B3%80%EC%88%98%EC%99%80%EC%9E%90%EB%A3%8C%ED%98%95.ipynb\" target=\"_parent\"><img src=\"https://colab.research.google.com/assets/colab-badge.svg\" alt=\"Open In Colab\"/></a>"
      ]
    },
    {
      "cell_type": "code",
      "metadata": {
        "id": "9EIRPMAZ1AR2"
      },
      "source": [
        ""
      ],
      "execution_count": null,
      "outputs": []
    },
    {
      "cell_type": "markdown",
      "metadata": {
        "id": "FJyklBO52kBb"
      },
      "source": [
        "##**변수 이름 규칙**\n",
        "- 시작을 영문 대소ㅓ문자._ 구성 가능\n",
        "- BUT 숫자는 불가능\n",
        "- 일반적으로 변수를 표현할 떄 정확하고 간결한 이름을\n",
        "사용하는 것이 원칙\n",
        "\n"
      ]
    },
    {
      "cell_type": "code",
      "metadata": {
        "id": "CK1_qYm03PlY"
      },
      "source": [
        "abcABC = 1000\n",
        "____abc = 100\n",
        "ACBV = 100\n",
        "\n",
        "###4ever = 10\n"
      ],
      "execution_count": 1,
      "outputs": []
    },
    {
      "cell_type": "code",
      "metadata": {
        "id": "0n0Zp3m73lyh"
      },
      "source": [
        ""
      ],
      "execution_count": null,
      "outputs": []
    },
    {
      "cell_type": "markdown",
      "metadata": {
        "id": "mPVlcSkB3mZB"
      },
      "source": [
        "## **예악어**\n",
        "- rython에서 미리 선점해서 사용중인 키워드\n",
        "- impprt, por, while, if,elif 등"
      ]
    },
    {
      "cell_type": "code",
      "metadata": {
        "id": "EFoXNaql3_vj"
      },
      "source": [
        "_for = 100\n",
        "###tor= 120\n"
      ],
      "execution_count": 2,
      "outputs": []
    },
    {
      "cell_type": "code",
      "metadata": {
        "id": "Czu_B1zH4Ipa"
      },
      "source": [
        ""
      ],
      "execution_count": null,
      "outputs": []
    },
    {
      "cell_type": "markdown",
      "metadata": {
        "id": "ArMXPj9d4Jqi"
      },
      "source": [
        "##**기본 데이터 타입**\n",
        "- 징수(int)\n",
        "- 실수(fioat)\n",
        "- 문자열(str)\n",
        "- 불리연(boolean\n",
        "\n",
        "- type() 함수\n",
        " - 해당 변수, 값의 타입(type) 알고자 할 떄 사용\n"
      ]
    },
    {
      "cell_type": "code",
      "metadata": {
        "colab": {
          "base_uri": "https://localhost:8080/"
        },
        "id": "nJkFESri4qsp",
        "outputId": "ca7eeb24-debc-4252-eeff-b5fc3e7c0264"
      },
      "source": [
        "a = 100\n",
        "b = 11.4\n",
        "c = \"오늘은 비가 와요\"\n",
        "d = a>b\n",
        "print(type(a), a, type(b), b, type(c), c, type(d), d)"
      ],
      "execution_count": 13,
      "outputs": [
        {
          "output_type": "stream",
          "text": [
            "<class 'int'> 100 <class 'float'> 11.4 <class 'str'> 오늘은 비가 와요 <class 'bool'> True\n"
          ],
          "name": "stdout"
        }
      ]
    },
    {
      "cell_type": "code",
      "metadata": {
        "id": "D2Dou5j65uU6"
      },
      "source": [
        ""
      ],
      "execution_count": null,
      "outputs": []
    },
    {
      "cell_type": "markdown",
      "metadata": {
        "id": "JUcoZ0QZ6ZxD"
      },
      "source": [
        "### **none**\n",
        "- 아무런 값은 갖지 않을 떄 사용\n",
        "- 일반적으로 변수가 초기값을 갖지 않게 하기 위해 사용\n",
        "- NULL과 같은 의미"
      ]
    },
    {
      "cell_type": "code",
      "metadata": {
        "colab": {
          "base_uri": "https://localhost:8080/"
        },
        "id": "sKt0iEaM63S5",
        "outputId": "81d752e4-d71b-432a-fb07-79e74da37f2c"
      },
      "source": [
        "c = None\n",
        "print(c)"
      ],
      "execution_count": 14,
      "outputs": [
        {
          "output_type": "stream",
          "text": [
            "None\n"
          ],
          "name": "stdout"
        }
      ]
    },
    {
      "cell_type": "code",
      "metadata": {
        "id": "rcuTSkTW7XsT"
      },
      "source": [
        ""
      ],
      "execution_count": null,
      "outputs": []
    },
    {
      "cell_type": "markdown",
      "metadata": {
        "id": "dt6uEnTK7YwL"
      },
      "source": [
        "##**비교연산자**\n",
        "-  프로그래밍에서 비교를 할경우 사용한다\n",
        "- >.< (작다, 크다)\n",
        "- <=.>= (작거나 같다. 크거나 같다)\n",
        "- == (같다)\n",
        "- != (같지 않다)\n",
        "= 비교 연산자 결과는 bool(참과 거짓)"
      ]
    },
    {
      "cell_type": "code",
      "metadata": {
        "colab": {
          "base_uri": "https://localhost:8080/"
        },
        "id": "o8k2T8I08JGC",
        "outputId": "3407d1d4-c27d-4fee-9263-c00493e84648"
      },
      "source": [
        "a =5\n",
        "b =4\n",
        "\n",
        "print(a>b) #True\n",
        "print(a<b) #Fa;se \n",
        "print(a>=b) #True\n",
        "print(a<=b) #Fa;se\n",
        "print(a==b) #False\n",
        "print(a!=b) #True"
      ],
      "execution_count": 10,
      "outputs": [
        {
          "output_type": "stream",
          "text": [
            "True\n",
            "False\n",
            "True\n",
            "False\n",
            "False\n",
            "True\n"
          ],
          "name": "stdout"
        }
      ]
    },
    {
      "cell_type": "code",
      "metadata": {
        "id": "STprYDtQ9KKb"
      },
      "source": [
        ""
      ],
      "execution_count": null,
      "outputs": []
    },
    {
      "cell_type": "markdown",
      "metadata": {
        "id": "jxv4tv7bBPmF"
      },
      "source": [
        "## **기본연산자**\n"
      ]
    },
    {
      "cell_type": "code",
      "metadata": {
        "colab": {
          "base_uri": "https://localhost:8080/"
        },
        "id": "70kPTKYyBWDk",
        "outputId": "408542ad-c0c4-4488-ee91-3b936ac6d406"
      },
      "source": [
        "print(a+b) # a=5, b=4\n",
        "print(a-b)\n",
        "print(a*b)\n",
        "print(a/b)\n",
        "print(a%b)\n",
        "print(a**b) # 5의 4제곱"
      ],
      "execution_count": 11,
      "outputs": [
        {
          "output_type": "stream",
          "text": [
            "9\n",
            "1\n",
            "20\n",
            "1.25\n",
            "1\n",
            "625\n"
          ],
          "name": "stdout"
        }
      ]
    },
    {
      "cell_type": "code",
      "metadata": {
        "id": "8QkGDhMuB6Ac"
      },
      "source": [
        ""
      ],
      "execution_count": null,
      "outputs": []
    },
    {
      "cell_type": "markdown",
      "metadata": {
        "id": "nLDc5UKNCK_9"
      },
      "source": [
        "##**연산자 우선순위**\n",
        "- 기본적으로 수학의 연산자와 동일\n",
        "- 강제로 연산을 먼저하기 위해서는 ()를 사용"
      ]
    },
    {
      "cell_type": "code",
      "metadata": {
        "id": "pEGEVuHbCV3m"
      },
      "source": [
        "print(a+b+2) #a=5, b=4\n",
        "print((a+b)*2)\n",
        "print(2* a**3)"
      ],
      "execution_count": null,
      "outputs": []
    }
  ]
}