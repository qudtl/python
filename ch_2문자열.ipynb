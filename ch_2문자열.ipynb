{
  "nbformat": 4,
  "nbformat_minor": 0,
  "metadata": {
    "colab": {
      "name": "Untitled0.ipynb",
      "provenance": [],
      "authorship_tag": "ABX9TyOv+OIykVw3tiWgEkCuHoIq",
      "include_colab_link": true
    },
    "kernelspec": {
      "name": "python3",
      "display_name": "Python 3"
    },
    "language_info": {
      "name": "python"
    }
  },
  "cells": [
    {
      "cell_type": "markdown",
      "metadata": {
        "id": "view-in-github",
        "colab_type": "text"
      },
      "source": [
        "<a href=\"https://colab.research.google.com/github/qudtl/python/blob/main/ch_2%EB%AC%B8%EC%9E%90%EC%97%B4.ipynb\" target=\"_parent\"><img src=\"https://colab.research.google.com/assets/colab-badge.svg\" alt=\"Open In Colab\"/></a>"
      ]
    },
    {
      "cell_type": "markdown",
      "metadata": {
        "id": "IzUaq5DYFuoX"
      },
      "source": [
        "##** 학습목표 **\n"
      ]
    },
    {
      "cell_type": "code",
      "metadata": {
        "id": "CPoMAxVfFzQP"
      },
      "source": [
        ""
      ],
      "execution_count": null,
      "outputs": []
    },
    {
      "cell_type": "code",
      "metadata": {
        "id": "tzTnlmmHQtXT"
      },
      "source": [
        "#a = \"hello\" \n",
        "print(a.upper())\n",
        "print(a.lower())\n",
        "print(a.rep;ace('H'.'j'))\n",
        "print(a.rep;ace('ello').'j'))\n",
        "\n"
      ],
      "execution_count": null,
      "outputs": []
    },
    {
      "cell_type": "markdown",
      "metadata": {
        "id": "zC3c9Jt1Sx9V"
      },
      "source": [
        "##**format**\n",
        "- 문자열내의 특정한 값을 변수로 부터 초기화하여\n",
        "동적으로 문자열을 생성"
      ]
    },
    {
      "cell_type": "code",
      "metadata": {
        "colab": {
          "base_uri": "https://localhost:8080/",
          "height": 53
        },
        "id": "4zep-r3QS63E",
        "outputId": "c4780d28-1c3f-46f1-e12b-a700fef5bf18"
      },
      "source": [
        "temp  = 23\n",
        "per = 70\n",
        "\n",
        "a=' 현재 기온은 {}도 이고, 비율 확률은 {}%입니다.'.format(temp,per)\n",
        "print(a)\n",
        "\n",
        "cla = 3\n",
        "#b= \n",
        "f'현재 프로그래밍 시간은 {cla}교시이다.'\n",
        "\n"
      ],
      "execution_count": 7,
      "outputs": [
        {
          "output_type": "stream",
          "text": [
            " 현재 기온은 23도 이고, 비율 확률은 70%입니다.\n"
          ],
          "name": "stdout"
        },
        {
          "output_type": "execute_result",
          "data": {
            "application/vnd.google.colaboratory.intrinsic+json": {
              "type": "string"
            },
            "text/plain": [
              "'현재 프로그래밍 시간은 3교시이다.'"
            ]
          },
          "metadata": {},
          "execution_count": 7
        }
      ]
    },
    {
      "cell_type": "markdown",
      "metadata": {
        "id": "Q4hTuRMjVSZu"
      },
      "source": [
        "#### **aplit**\n",
        "- 문자열을 특정한 문자로 구분하여 치환"
      ]
    },
    {
      "cell_type": "code",
      "metadata": {
        "id": "bESTenV6Valm"
      },
      "source": [
        "a = 'what a wonderful day. nice weaher!'\n",
        "a.split('w')\n"
      ],
      "execution_count": null,
      "outputs": []
    }
  ]
}